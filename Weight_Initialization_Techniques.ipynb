{
 "cells": [
  {
   "cell_type": "markdown",
   "id": "3bd03c60",
   "metadata": {},
   "source": [
    "# Weight Initialization Techniques in Neural Networks\n",
    "\n",
    "Proper weight initialization is crucial for the effective training of neural networks. Poor initialization can lead to problems like vanishing or exploding gradients, making the network slow to converge or fail to learn. Below is an overview of commonly used weight initialization techniques, including their theoretical basis, formulas, and practical implications.\n",
    "\n",
    "---\n",
    "\n",
    "## 1. Zero Initialization\n",
    "\n",
    "**Theory:**\n",
    "\n",
    "- All weights are initialized to zero.\n",
    "- This approach results in symmetric updates, where neurons in each layer learn identical features, rendering the network ineffective.\n",
    "- Not used in practice.\n",
    "\n",
    "**Formula:**\n",
    "\n",
    "$$ W = 0 $$\n",
    "\n",
    "**Problem:**\n",
    "\n",
    "- No symmetry breaking among neurons.\n",
    "\n",
    "---\n",
    "\n",
    "## 2. Random Initialization\n",
    "\n",
    "**Theory:**\n",
    "\n",
    "- Weights are initialized randomly, usually from a uniform or normal distribution.\n",
    "- Helps break symmetry and allows neurons to learn different features.\n",
    "- However, if the variance of the weights is too large, it can cause gradients to explode, and if too small, it can cause vanishing gradients.\n",
    "\n",
    "**Formula:**\n",
    "\n",
    "$$ W \\sim U(a, b) \\quad \\text{or} \\quad W \\sim N(\\mu, \\sigma^2) $$\n",
    "\n",
    "where:\n",
    "\n",
    "- \\( U(a, b) \\) is a uniform distribution.\n",
    "- \\( N(\\mu, \\sigma^2) \\) is a normal distribution.\n",
    "\n",
    "---\n",
    "\n",
    "## 3. Xavier Initialization (Glorot Initialization)\n",
    "\n",
    "**Theory:**\n",
    "\n",
    "- Designed to maintain the variance of activations across layers, preventing gradients from vanishing or exploding.\n",
    "- Balances the variance of weights to be proportional to the size of the input and output layers.\n",
    "- Works well with activation functions like sigmoid and tanh.\n",
    "\n",
    "**Formulas:**\n",
    "\n",
    "For a uniform distribution:\n",
    "\n",
    "$$ W \\sim U\\left(-\\sqrt{\\frac{6}{n_{\\text{in}} + n_{\\text{out}}}}, \\sqrt{\\frac{6}{n_{\\text{in}} + n_{\\text{out}}}}\\right) $$\n",
    "\n",
    "For a normal distribution:\n",
    "\n",
    "$$ W \\sim N\\left(0, \\frac{2}{n_{\\text{in}} + n_{\\text{out}}}\\right) $$\n",
    "\n",
    "where:\n",
    "\n",
    "- \\( n_{\\text{in}} \\): Number of input neurons.\n",
    "- \\( n_{\\text{out}} \\): Number of output neurons.\n",
    "\n",
    "---\n",
    "\n",
    "## 4. He Initialization\n",
    "\n",
    "**Theory:**\n",
    "\n",
    "- Proposed to address ReLU activation functions.\n",
    "- Ensures that the variance of weights is scaled according to the input size, promoting stable gradients.\n",
    "- Specifically tailored for layers with ReLU or leaky ReLU activations.\n",
    "\n",
    "**Formulas:**\n",
    "\n",
    "For a normal distribution:\n",
    "\n",
    "$$ W \\sim N\\left(0, \\frac{2}{n_{\\text{in}}}\\right) $$\n",
    "\n",
    "For a uniform distribution:\n",
    "\n",
    "$$ W \\sim U\\left(-\\sqrt{\\frac{6}{n_{\\text{in}}}}, \\sqrt{\\frac{6}{n_{\\text{in}}}}\\right) $$\n",
    "\n",
    "where:\n",
    "\n",
    "- \\( n_{\\text{in}} \\): Number of input neurons.\n",
    "\n",
    "---\n",
    "\n",
    "## 5. LeCun Initialization\n",
    "\n",
    "**Theory:**\n",
    "\n",
    "- Specifically designed for activation functions like SELU (Scaled Exponential Linear Units).\n",
    "- Ensures that activations and gradients are normalized throughout the layers.\n",
    "- Commonly used in networks with self-normalizing properties.\n",
    "\n",
    "**Formulas:**\n",
    "\n",
    "For a normal distribution:\n",
    "\n",
    "$$ W \\sim N\\left(0, \\frac{1}{n_{\\text{in}}}\\right) $$\n",
    "\n",
    "For a uniform distribution:\n",
    "\n",
    "$$ W \\sim U\\left(-\\sqrt{\\frac{3}{n_{\\text{in}}}}, \\sqrt{\\frac{3}{n_{\\text{in}}}}\\right) $$\n",
    "\n",
    "---\n",
    "\n",
    "---\n",
    "\n",
    "## 6. Layer-Wise Initialization (LSUV)\n",
    "\n",
    "**Theory:**\n",
    "\n",
    "- Layer-wise Sequential Unit Variance (LSUV) initialization adjusts weights iteratively to ensure proper variance propagation.\n",
    "- Combines random initialization with a fine-tuning step to normalize variance.\n",
    "- Effective for very deep networks.\n",
    "\n",
    "**Steps:**\n",
    "\n",
    "1. Start with random initialization (e.g., Xavier or He).\n",
    "2. Pass random inputs through the network.\n",
    "3. Adjust weights layer-by-layer to normalize the variance of outputs.\n",
    "\n",
    "---\n",
    "\n",
    "## 7. Uniform Initialization\n",
    "\n",
    "**Theory:**\n",
    "\n",
    "- A simple and widely used initialization where weights are drawn from a uniform distribution.\n",
    "- Suitable for general-purpose use but may not be optimal for deeper networks or specific activation functions.\n",
    "\n",
    "**Formula:**\n",
    "\n",
    "$$ W \\sim U(-a, a) $$\n",
    "\n",
    "where:\n",
    "\n",
    "$$ a = \\sqrt{\\frac{6}{n_{\\text{in}} + n_{\\text{out}}}} $$\n"
   ]
  },
  {
   "cell_type": "code",
   "execution_count": 55,
   "id": "f8804724",
   "metadata": {},
   "outputs": [
    {
     "data": {
      "text/html": [
       "<div>\n",
       "<style scoped>\n",
       "    .dataframe tbody tr th:only-of-type {\n",
       "        vertical-align: middle;\n",
       "    }\n",
       "\n",
       "    .dataframe tbody tr th {\n",
       "        vertical-align: top;\n",
       "    }\n",
       "\n",
       "    .dataframe thead th {\n",
       "        text-align: right;\n",
       "    }\n",
       "</style>\n",
       "<table border=\"1\" class=\"dataframe\">\n",
       "  <thead>\n",
       "    <tr style=\"text-align: right;\">\n",
       "      <th></th>\n",
       "      <th>Input_Column_1</th>\n",
       "      <th>Input_Column_2</th>\n",
       "      <th>Output</th>\n",
       "    </tr>\n",
       "  </thead>\n",
       "  <tbody>\n",
       "    <tr>\n",
       "      <th>0</th>\n",
       "      <td>0.496714</td>\n",
       "      <td>0.417411</td>\n",
       "      <td>1</td>\n",
       "    </tr>\n",
       "    <tr>\n",
       "      <th>1</th>\n",
       "      <td>-0.138264</td>\n",
       "      <td>0.222108</td>\n",
       "      <td>1</td>\n",
       "    </tr>\n",
       "    <tr>\n",
       "      <th>2</th>\n",
       "      <td>0.647689</td>\n",
       "      <td>0.119865</td>\n",
       "      <td>1</td>\n",
       "    </tr>\n",
       "    <tr>\n",
       "      <th>3</th>\n",
       "      <td>1.523030</td>\n",
       "      <td>0.337615</td>\n",
       "      <td>1</td>\n",
       "    </tr>\n",
       "    <tr>\n",
       "      <th>4</th>\n",
       "      <td>-0.234153</td>\n",
       "      <td>0.942910</td>\n",
       "      <td>1</td>\n",
       "    </tr>\n",
       "  </tbody>\n",
       "</table>\n",
       "</div>"
      ],
      "text/plain": [
       "   Input_Column_1  Input_Column_2  Output\n",
       "0        0.496714        0.417411       1\n",
       "1       -0.138264        0.222108       1\n",
       "2        0.647689        0.119865       1\n",
       "3        1.523030        0.337615       1\n",
       "4       -0.234153        0.942910       1"
      ]
     },
     "execution_count": 55,
     "metadata": {},
     "output_type": "execute_result"
    }
   ],
   "source": [
    "import pandas as pd\n",
    "import numpy as np\n",
    "\n",
    "# Setting the seed for reproducibility\n",
    "np.random.seed(42)\n",
    "\n",
    "# Generate a dataset with 100 data points\n",
    "n_samples = 100\n",
    "\n",
    "# Input columns - generate random data for two input features\n",
    "input_col1 = np.random.randn(n_samples)  # Random values from a normal distribution\n",
    "input_col2 = np.random.rand(n_samples)   # Random values between 0 and 1\n",
    "\n",
    "# Output column - generate a binary target variable\n",
    "output_col = (input_col1 + input_col2 > 0).astype(int)  # 1 if sum of inputs is greater than 0, else 0\n",
    "\n",
    "# Create a DataFrame\n",
    "df = pd.DataFrame({\n",
    "    'Input_Column_1': input_col1,\n",
    "    'Input_Column_2': input_col2,\n",
    "    'Output': output_col\n",
    "})\n",
    "df.head()"
   ]
  },
  {
   "cell_type": "code",
   "execution_count": 56,
   "id": "6e74739f",
   "metadata": {},
   "outputs": [],
   "source": [
    "import matplotlib.pyplot as plt"
   ]
  },
  {
   "cell_type": "code",
   "execution_count": 57,
   "id": "d9ee72fd",
   "metadata": {},
   "outputs": [
    {
     "data": {
      "text/plain": [
       "<matplotlib.collections.PathCollection at 0x23289d44b50>"
      ]
     },
     "execution_count": 57,
     "metadata": {},
     "output_type": "execute_result"
    },
    {
     "data": {
      "image/png": "[encoded data removed]",
      "text/plain": [
       "<Figure size 640x480 with 1 Axes>"
      ]
     },
     "metadata": {},
     "output_type": "display_data"
    }
   ],
   "source": [
    "plt.scatter(df['Input_Column_1'],df['Input_Column_2'],c=df['Output'])"
   ]
  },
  {
   "cell_type": "code",
   "execution_count": 58,
   "id": "22257807",
   "metadata": {},
   "outputs": [],
   "source": [
    "X = df.iloc[:,0:2].values\n",
    "y = df.iloc[:,-1].values"
   ]
  },
  {
   "cell_type": "code",
   "execution_count": 59,
   "id": "b78f1e31",
   "metadata": {},
   "outputs": [
    {
     "data": {
      "text/plain": [
       "array([1, 1, 1, 1, 1, 1, 1, 1, 0, 1, 1, 0, 1, 0, 0, 0, 0, 1, 0, 0, 1, 1,\n",
       "       1, 0, 1, 1, 0, 1, 0, 1, 0, 1, 1, 0, 1, 0, 1, 0, 0, 1, 1, 1, 1, 0,\n",
       "       0, 0, 1, 1, 1, 0, 1, 0, 1, 1, 1, 1, 0, 1, 1, 1, 0, 1, 0, 0, 1, 1,\n",
       "       1, 1, 1, 1, 1, 1, 1, 1, 0, 1, 1, 1, 1, 0, 1, 1, 1, 0, 0, 0, 1, 1,\n",
       "       1, 1, 1, 1, 0, 1, 0, 0, 1, 1, 1, 1])"
      ]
     },
     "execution_count": 59,
     "metadata": {},
     "output_type": "execute_result"
    }
   ],
   "source": [
    "y"
   ]
  },
  {
   "cell_type": "code",
   "execution_count": 60,
   "id": "7153c020",
   "metadata": {},
   "outputs": [],
   "source": [
    "import tensorflow\n",
    "from tensorflow import keras\n",
    "from keras import Sequential\n",
    "from keras.layers import Dense"
   ]
  },
  {
   "cell_type": "code",
   "execution_count": 61,
   "id": "cc222ac5",
   "metadata": {},
   "outputs": [],
   "source": [
    "from tensorflow.keras.initializers import RandomNormal, GlorotUniform, HeNormal, Zeros"
   ]
  },
  {
   "cell_type": "code",
   "execution_count": 62,
   "id": "8c53f09f",
   "metadata": {},
   "outputs": [
    {
     "name": "stdout",
     "output_type": "stream",
     "text": [
      "Model: \"sequential_8\"\n",
      "_________________________________________________________________\n",
      " Layer (type)                Output Shape              Param #   \n",
      "=================================================================\n",
      " dense_10 (Dense)            (None, 10)                30        \n",
      "                                                                 \n",
      " dense_11 (Dense)            (None, 1)                 11        \n",
      "                                                                 \n",
      "=================================================================\n",
      "Total params: 41 (164.00 Byte)\n",
      "Trainable params: 41 (164.00 Byte)\n",
      "Non-trainable params: 0 (0.00 Byte)\n",
      "_________________________________________________________________\n"
     ]
    }
   ],
   "source": [
    "model = Sequential()\n",
    "\n",
    "model.add(Dense(10,activation='sigmoid',input_dim=2,kernel_initializer=HeNormal()))\n",
    "model.add(Dense(1,activation='sigmoid'))\n",
    "\n",
    "model.summary()"
   ]
  },
  {
   "cell_type": "code",
   "execution_count": 63,
   "id": "71e957a7",
   "metadata": {},
   "outputs": [
    {
     "data": {
      "text/plain": [
       "[array([[ 0.91585016,  0.5483465 , -1.8327932 , -0.47321683, -0.81757194,\n",
       "          1.4737824 ,  0.56524193,  0.5927287 ,  0.3126835 ,  1.2165519 ],\n",
       "        [ 1.1739833 ,  1.1748772 ,  0.8254363 , -0.94844246, -0.00636067,\n",
       "          0.1002716 ,  0.32740274,  1.3065212 , -0.59474915, -0.12873124]],\n",
       "       dtype=float32),\n",
       " array([0., 0., 0., 0., 0., 0., 0., 0., 0., 0.], dtype=float32),\n",
       " array([[ 0.20956063],\n",
       "        [ 0.11915821],\n",
       "        [-0.4098204 ],\n",
       "        [-0.21503443],\n",
       "        [-0.10541183],\n",
       "        [-0.3811707 ],\n",
       "        [-0.41342747],\n",
       "        [-0.29575014],\n",
       "        [-0.4184413 ],\n",
       "        [ 0.29486686]], dtype=float32),\n",
       " array([0.], dtype=float32)]"
      ]
     },
     "execution_count": 63,
     "metadata": {},
     "output_type": "execute_result"
    }
   ],
   "source": [
    "# Set parameters to 0\n",
    "model.get_weights()"
   ]
  },
  {
   "cell_type": "code",
   "execution_count": 47,
   "id": "59acf573",
   "metadata": {},
   "outputs": [],
   "source": [
    "# initial_weights = model.get_weights()"
   ]
  },
  {
   "cell_type": "code",
   "execution_count": 48,
   "id": "c486596e",
   "metadata": {},
   "outputs": [],
   "source": [
    "# initial_weights[0] = np.zeros(model.get_weights()[0].shape)\n",
    "# initial_weights[1] = np.zeros(model.get_weights()[1].shape)\n",
    "# initial_weights[2] = np.zeros(model.get_weights()[2].shape)\n",
    "# initial_weights[3] = np.zeros(model.get_weights()[3].shape)"
   ]
  },
  {
   "cell_type": "code",
   "execution_count": 49,
   "id": "ac13b391",
   "metadata": {},
   "outputs": [],
   "source": [
    "# initial_weights[0] = np.ones(model.get_weights()[0].shape)*0.5\n",
    "# initial_weights[1] = np.ones(model.get_weights()[1].shape)*0.5\n",
    "# initial_weights[2] = np.ones(model.get_weights()[2].shape)*0.5\n",
    "# initial_weights[3] = np.ones(model.get_weights()[3].shape)*0.5"
   ]
  },
  {
   "cell_type": "code",
   "execution_count": 50,
   "id": "9757b7fd",
   "metadata": {},
   "outputs": [],
   "source": [
    "# model.set_weights(initial_weights)"
   ]
  },
  {
   "cell_type": "code",
   "execution_count": 51,
   "id": "63af8158",
   "metadata": {},
   "outputs": [
    {
     "data": {
      "text/plain": [
       "[array([[ 0.13925299,  1.1990302 ,  0.36693022, -0.14648983,  0.44140092,\n",
       "         -0.96468294,  2.2494528 , -0.6421311 ,  0.50521576,  0.00257817],\n",
       "        [-0.44903103, -0.6053469 ,  0.03665183, -0.9408237 , -0.5438582 ,\n",
       "         -1.2297777 ,  1.3391058 ,  0.10538828,  0.6327019 , -1.4802598 ]],\n",
       "       dtype=float32),\n",
       " array([0., 0., 0., 0., 0., 0., 0., 0., 0., 0.], dtype=float32),\n",
       " array([[ 0.20917857],\n",
       "        [-0.24690276],\n",
       "        [-0.3226128 ],\n",
       "        [-0.5635489 ],\n",
       "        [ 0.5891693 ],\n",
       "        [-0.6259559 ],\n",
       "        [ 0.2196554 ],\n",
       "        [ 0.21002412],\n",
       "        [-0.12735087],\n",
       "        [ 0.63409764]], dtype=float32),\n",
       " array([0.], dtype=float32)]"
      ]
     },
     "execution_count": 51,
     "metadata": {},
     "output_type": "execute_result"
    }
   ],
   "source": [
    "model.get_weights()"
   ]
  },
  {
   "cell_type": "code",
   "execution_count": 52,
   "id": "51b95d51",
   "metadata": {},
   "outputs": [],
   "source": [
    "model.compile(loss='binary_crossentropy',optimizer='adam',metrics=['accuracy'])"
   ]
  },
  {
   "cell_type": "code",
   "execution_count": 53,
   "id": "2eea5810",
   "metadata": {},
   "outputs": [
    {
     "name": "stdout",
     "output_type": "stream",
     "text": [
      "Epoch 1/20\n",
      "3/3 [==============================] - 2s 226ms/step - loss: 0.6393 - accuracy: 0.8500 - val_loss: 0.6485 - val_accuracy: 0.9000\n",
      "Epoch 2/20\n",
      "3/3 [==============================] - 0s 40ms/step - loss: 0.6352 - accuracy: 0.9000 - val_loss: 0.6442 - val_accuracy: 0.9000\n",
      "Epoch 3/20\n",
      "3/3 [==============================] - 0s 40ms/step - loss: 0.6313 - accuracy: 0.9250 - val_loss: 0.6398 - val_accuracy: 0.9000\n",
      "Epoch 4/20\n",
      "3/3 [==============================] - 0s 46ms/step - loss: 0.6270 - accuracy: 0.9750 - val_loss: 0.6357 - val_accuracy: 0.9500\n",
      "Epoch 5/20\n",
      "3/3 [==============================] - 0s 45ms/step - loss: 0.6232 - accuracy: 0.9625 - val_loss: 0.6316 - val_accuracy: 1.0000\n",
      "Epoch 6/20\n",
      "3/3 [==============================] - 0s 54ms/step - loss: 0.6192 - accuracy: 0.9750 - val_loss: 0.6277 - val_accuracy: 0.9500\n",
      "Epoch 7/20\n",
      "3/3 [==============================] - 0s 43ms/step - loss: 0.6152 - accuracy: 0.9625 - val_loss: 0.6238 - val_accuracy: 0.9500\n",
      "Epoch 8/20\n",
      "3/3 [==============================] - 0s 80ms/step - loss: 0.6113 - accuracy: 0.9500 - val_loss: 0.6200 - val_accuracy: 0.8500\n",
      "Epoch 9/20\n",
      "3/3 [==============================] - 0s 81ms/step - loss: 0.6077 - accuracy: 0.9250 - val_loss: 0.6162 - val_accuracy: 0.8500\n",
      "Epoch 10/20\n",
      "3/3 [==============================] - 0s 88ms/step - loss: 0.6042 - accuracy: 0.8875 - val_loss: 0.6125 - val_accuracy: 0.8000\n",
      "Epoch 11/20\n",
      "3/3 [==============================] - 0s 114ms/step - loss: 0.6009 - accuracy: 0.8875 - val_loss: 0.6088 - val_accuracy: 0.8000\n",
      "Epoch 12/20\n",
      "3/3 [==============================] - 0s 88ms/step - loss: 0.5974 - accuracy: 0.8750 - val_loss: 0.6054 - val_accuracy: 0.7500\n",
      "Epoch 13/20\n",
      "3/3 [==============================] - 0s 82ms/step - loss: 0.5940 - accuracy: 0.8750 - val_loss: 0.6021 - val_accuracy: 0.7500\n",
      "Epoch 14/20\n",
      "3/3 [==============================] - 0s 40ms/step - loss: 0.5909 - accuracy: 0.8750 - val_loss: 0.5990 - val_accuracy: 0.7500\n",
      "Epoch 15/20\n",
      "3/3 [==============================] - 0s 57ms/step - loss: 0.5879 - accuracy: 0.8750 - val_loss: 0.5960 - val_accuracy: 0.7500\n",
      "Epoch 16/20\n",
      "3/3 [==============================] - 0s 43ms/step - loss: 0.5847 - accuracy: 0.8625 - val_loss: 0.5931 - val_accuracy: 0.7500\n",
      "Epoch 17/20\n",
      "3/3 [==============================] - 0s 46ms/step - loss: 0.5821 - accuracy: 0.8500 - val_loss: 0.5903 - val_accuracy: 0.7500\n",
      "Epoch 18/20\n",
      "3/3 [==============================] - 0s 46ms/step - loss: 0.5791 - accuracy: 0.8375 - val_loss: 0.5875 - val_accuracy: 0.7500\n",
      "Epoch 19/20\n",
      "3/3 [==============================] - 0s 42ms/step - loss: 0.5767 - accuracy: 0.8250 - val_loss: 0.5847 - val_accuracy: 0.7500\n",
      "Epoch 20/20\n",
      "3/3 [==============================] - 0s 42ms/step - loss: 0.5738 - accuracy: 0.8250 - val_loss: 0.5822 - val_accuracy: 0.7500\n"
     ]
    }
   ],
   "source": [
    "history = model.fit(X,y,epochs=20,validation_split=0.2)"
   ]
  },
  {
   "cell_type": "code",
   "execution_count": 54,
   "id": "2b70eb6f",
   "metadata": {},
   "outputs": [
    {
     "data": {
      "text/plain": [
       "[array([[ 0.19902061,  1.1433121 ,  0.31040636, -0.20379035,  0.49986887,\n",
       "         -1.022674  ,  2.306116  , -0.5828961 ,  0.4514145 ,  0.06152751],\n",
       "        [-0.39410505, -0.65922415, -0.01526212, -0.9917437 , -0.489067  ,\n",
       "         -1.2774854 ,  1.390652  ,  0.16052681,  0.58424586, -1.426564  ]],\n",
       "       dtype=float32),\n",
       " array([ 0.05124734, -0.05210201, -0.0486849 , -0.04628195,  0.05172454,\n",
       "        -0.04242011,  0.04853142,  0.0522742 , -0.04483934,  0.04860549],\n",
       "       dtype=float32),\n",
       " array([[ 0.2610697 ],\n",
       "        [-0.1908597 ],\n",
       "        [-0.26974258],\n",
       "        [-0.5235878 ],\n",
       "        [ 0.64384764],\n",
       "        [-0.65407276],\n",
       "        [ 0.27704844],\n",
       "        [ 0.23850934],\n",
       "        [-0.07344804],\n",
       "        [ 0.68078303]], dtype=float32),\n",
       " array([0.04923466], dtype=float32)]"
      ]
     },
     "execution_count": 54,
     "metadata": {},
     "output_type": "execute_result"
    }
   ],
   "source": [
    "model.get_weights()"
   ]
  },
  {
   "cell_type": "code",
   "execution_count": 17,
   "id": "7e89e9d3",
   "metadata": {},
   "outputs": [
    {
     "name": "stdout",
     "output_type": "stream",
     "text": [
      "9600/9600 [==============================] - 28s 3ms/step\n"
     ]
    },
    {
     "data": {
      "text/plain": [
       "<Axes: >"
      ]
     },
     "execution_count": 17,
     "metadata": {},
     "output_type": "execute_result"
    },
    {
     "data": {
      "image/png": "[encoded data removed]",
      "text/plain": [
       "<Figure size 640x480 with 1 Axes>"
      ]
     },
     "metadata": {},
     "output_type": "display_data"
    }
   ],
   "source": [
    "from mlxtend.plotting import plot_decision_regions\n",
    "plot_decision_regions(X,y.astype('int'), clf=model, legend=2)"
   ]
  },
  {
   "cell_type": "code",
   "execution_count": null,
   "id": "4d1d71a3",
   "metadata": {},
   "outputs": [],
   "source": []
  }
 ],
 "metadata": {
  "kernelspec": {
   "display_name": "Python 3 (ipykernel)",
   "language": "python",
   "name": "python3"
  },
  "language_info": {
   "codemirror_mode": {
    "name": "ipython",
    "version": 3
   },
   "file_extension": ".py",
   "mimetype": "text/x-python",
   "name": "python",
   "nbconvert_exporter": "python",
   "pygments_lexer": "ipython3",
   "version": "3.11.11"
  }
 },
 "nbformat": 4,
 "nbformat_minor": 5
}
